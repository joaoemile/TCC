{
 "cells": [
  {
   "cell_type": "code",
   "execution_count": 1,
   "id": "cb74052f",
   "metadata": {},
   "outputs": [],
   "source": [
    "# Importando as bibliotecas necessárias:\n",
    "import pandas as pd\n",
    "import numpy as np\n",
    "from sklearn.linear_model import LinearRegression\n",
    "from sklearn.svm import SVR\n",
    "from sklearn.tree import DecisionTreeRegressor\n",
    "from sklearn.ensemble import GradientBoostingRegressor, RandomForestRegressor\n",
    "from sklearn.metrics import mean_squared_error, mean_absolute_error, r2_score\n",
    "from sklearn.model_selection import GridSearchCV, TimeSeriesSplit\n",
    "import matplotlib.pyplot as plt\n",
    "import logging\n",
    "import os"
   ]
  },
  {
   "cell_type": "code",
   "execution_count": 2,
   "id": "e30fb0f3",
   "metadata": {},
   "outputs": [],
   "source": [
    "# Configurar logging\n",
    "logging.basicConfig(level=logging.INFO, format='%(asctime)s - %(levelname)s - %(message)s')"
   ]
  },
  {
   "cell_type": "code",
   "execution_count": 3,
   "id": "4857821c",
   "metadata": {},
   "outputs": [],
   "source": [
    "# Função para calcular o MAPE\n",
    "def mean_absolute_percentage_error(y_true, y_pred):\n",
    "    y_true, y_pred = np.array(y_true), np.array(y_pred)\n",
    "    return np.mean(np.abs((y_true - y_pred) / y_true)) * 100"
   ]
  },
  {
   "cell_type": "code",
   "execution_count": 5,
   "id": "77394c40",
   "metadata": {},
   "outputs": [
    {
     "name": "stderr",
     "output_type": "stream",
     "text": [
      "2025-07-22 00:32:50,052 - INFO - Carregando dados...\n"
     ]
    }
   ],
   "source": [
    "# Carregar os dados\n",
    "logging.info(\"Carregando dados...\")\n",
    "data_path = os.path.join(\"..\", \"data\", \"Dados_TCC_2014_2024_Normalizados_TabUnica.xlsx\")\n",
    "data = pd.read_excel(data_path)"
   ]
  },
  {
   "cell_type": "code",
   "execution_count": 6,
   "id": "0ac117e9",
   "metadata": {},
   "outputs": [
    {
     "name": "stderr",
     "output_type": "stream",
     "text": [
      "2025-07-22 00:34:30,973 - INFO - Preparando dados...\n"
     ]
    }
   ],
   "source": [
    "# Preparar os dados\n",
    "logging.info(\"Preparando dados...\")\n",
    "data['IPCA_Next'] = data['Valor IPCA'].shift(-1)\n",
    "data = data.dropna()\n",
    "X = data.drop(columns=['Data Referência', 'Valor IPCA', 'IPCA_Next'])\n",
    "y = data['IPCA_Next']"
   ]
  },
  {
   "cell_type": "code",
   "execution_count": 7,
   "id": "b2ef082d",
   "metadata": {},
   "outputs": [
    {
     "name": "stderr",
     "output_type": "stream",
     "text": [
      "2025-07-22 00:34:33,360 - INFO - Tamanho do conjunto de treino: 87 observações\n",
      "2025-07-22 00:34:33,362 - INFO - Tamanho do conjunto de teste: 22 observações\n"
     ]
    }
   ],
   "source": [
    "# Divisão treino/teste (80/20, mantendo ordem temporal)\n",
    "train_size = int(len(data) * 0.8)\n",
    "X_train, X_test = X.iloc[:train_size], X.iloc[train_size:]\n",
    "y_train, y_test = y.iloc[:train_size], y.iloc[train_size:]\n",
    "logging.info(f\"Tamanho do conjunto de treino: {len(X_train)} observações\")\n",
    "logging.info(f\"Tamanho do conjunto de teste: {len(X_test)} observações\")"
   ]
  },
  {
   "cell_type": "code",
   "execution_count": 8,
   "id": "250de227",
   "metadata": {},
   "outputs": [
    {
     "name": "stderr",
     "output_type": "stream",
     "text": [
      "2025-07-22 00:34:35,936 - INFO - Realizando feature selection com Decision Tree...\n"
     ]
    }
   ],
   "source": [
    "# Feature Selection com Decision Tree\n",
    "logging.info(\"Realizando feature selection com Decision Tree...\")\n",
    "dt_selector = DecisionTreeRegressor(\n",
    "    max_depth=6, min_samples_split=2, min_samples_leaf=3, random_state=42\n",
    ")\n",
    "dt_selector.fit(X_train, y_train)\n",
    "importances = dt_selector.feature_importances_\n",
    "feature_names = X.columns"
   ]
  },
  {
   "cell_type": "code",
   "execution_count": 9,
   "id": "7d4c3235",
   "metadata": {},
   "outputs": [
    {
     "name": "stderr",
     "output_type": "stream",
     "text": [
      "2025-07-22 00:34:39,271 - INFO - Variáveis selecionadas (6): ['IPCA Mês -11', 'IPCA Mês -10', 'IPCA Mês -1', 'PETROLEO Mês -7', 'IPP NOVO Mês -9', 'DESEMPREGO Mês 0']\n"
     ]
    }
   ],
   "source": [
    "# Selecionar variáveis com importância >= 0.005\n",
    "importance_threshold = 0.005\n",
    "selected_features = feature_names[importances >= importance_threshold].tolist()\n",
    "logging.info(f\"Variáveis selecionadas ({len(selected_features)}): {selected_features}\")"
   ]
  },
  {
   "cell_type": "code",
   "execution_count": 10,
   "id": "c2f6b8c5",
   "metadata": {},
   "outputs": [],
   "source": [
    "# Filtrar conjuntos de treino e teste\n",
    "X_train_selected = X_train[selected_features]\n",
    "X_test_selected = X_test[selected_features]"
   ]
  },
  {
   "cell_type": "code",
   "execution_count": 11,
   "id": "2314ac53",
   "metadata": {},
   "outputs": [],
   "source": [
    "# Definir modelos e grades de hiperparâmetros\n",
    "models = {\n",
    "    'Linear Regression': LinearRegression(),\n",
    "    'SVR': SVR(),\n",
    "    'Decision Tree': DecisionTreeRegressor(random_state=42),\n",
    "    'Gradient Boosting': GradientBoostingRegressor(random_state=42),\n",
    "    'Random Forest': RandomForestRegressor(random_state=42)\n",
    "}\n",
    "\n",
    "param_grids = {\n",
    "    'Linear Regression': {},  # Sem hiperparâmetros para otimizar\n",
    "    'SVR': {\n",
    "        'C': [0.01, 0.1, 1.0, 10.0, 100.0],\n",
    "        'epsilon': [0.001, 0.01, 0.1, 0.2, 0.5],\n",
    "        'kernel': ['rbf', 'linear', 'poly'],\n",
    "        'degree': [2, 3]\n",
    "    },\n",
    "    'Decision Tree': {\n",
    "        'max_depth': [5, 6, 7, 8, 9],\n",
    "        'min_samples_split': [2, 5, 10, 15],\n",
    "        'min_samples_leaf': [1, 2, 3]\n",
    "    },\n",
    "    'Gradient Boosting': {\n",
    "        'n_estimators': [50, 100, 200, 300],\n",
    "        'learning_rate': [0.01, 0.05, 0.1, 0.2],\n",
    "        'max_depth': [2, 3, 4, 5],\n",
    "        'min_samples_split': [2, 5, 10]\n",
    "    },\n",
    "    'Random Forest': {\n",
    "        'n_estimators': [50, 100, 200, 300],\n",
    "        'max_depth': [4, 5, 6, 7, 8],\n",
    "        'min_samples_split': [2, 5, 10],\n",
    "        'min_samples_leaf': [1, 2, 3]\n",
    "    }\n",
    "}"
   ]
  },
  {
   "cell_type": "code",
   "execution_count": 12,
   "id": "15cb2bc8",
   "metadata": {},
   "outputs": [],
   "source": [
    "# Configurar validação cruzada temporal\n",
    "tscv = TimeSeriesSplit(n_splits=5)"
   ]
  },
  {
   "cell_type": "code",
   "execution_count": 13,
   "id": "4e6c1cf8",
   "metadata": {},
   "outputs": [
    {
     "name": "stderr",
     "output_type": "stream",
     "text": [
      "2025-07-22 00:34:52,300 - INFO - Otimizando Linear Regression com variáveis selecionadas...\n",
      "2025-07-22 00:34:52,355 - INFO - Melhores parâmetros para Linear Regression: {}\n",
      "2025-07-22 00:34:52,363 - INFO - Otimizando SVR com variáveis selecionadas...\n",
      "2025-07-22 00:35:03,899 - INFO - Melhores parâmetros para SVR: {'C': 10.0, 'degree': 2, 'epsilon': 0.01, 'kernel': 'linear'}\n",
      "2025-07-22 00:35:03,904 - INFO - Otimizando Decision Tree com variáveis selecionadas...\n",
      "2025-07-22 00:35:04,732 - INFO - Melhores parâmetros para Decision Tree: {'max_depth': 6, 'min_samples_leaf': 3, 'min_samples_split': 2}\n",
      "2025-07-22 00:35:04,738 - INFO - Otimizando Gradient Boosting com variáveis selecionadas...\n",
      "2025-07-22 00:36:03,808 - INFO - Melhores parâmetros para Gradient Boosting: {'learning_rate': 0.05, 'max_depth': 4, 'min_samples_split': 10, 'n_estimators': 300}\n",
      "2025-07-22 00:36:03,814 - INFO - Otimizando Random Forest com variáveis selecionadas...\n",
      "C:\\Users\\JoãoEmileXimenesMuri\\AppData\\Roaming\\Python\\Python311\\site-packages\\numpy\\ma\\core.py:2820: RuntimeWarning: invalid value encountered in cast\n",
      "  _data = np.array(data, dtype=dtype, copy=copy,\n",
      "2025-07-22 00:38:04,087 - INFO - Melhores parâmetros para Random Forest: {'max_depth': 8, 'min_samples_leaf': 1, 'min_samples_split': 2, 'n_estimators': 50}\n"
     ]
    }
   ],
   "source": [
    "# Treinar e avaliar modelos com GridSearchCV\n",
    "results = []\n",
    "predictions = {}\n",
    "best_params = {}\n",
    "\n",
    "for name, model in models.items():\n",
    "    logging.info(f\"Otimizando {name} com variáveis selecionadas...\")\n",
    "    try:\n",
    "        grid_search = GridSearchCV(\n",
    "            estimator=model,\n",
    "            param_grid=param_grids[name],\n",
    "            cv=tscv,\n",
    "            scoring='neg_mean_squared_error',\n",
    "            n_jobs=1\n",
    "        )\n",
    "        grid_search.fit(X_train_selected, y_train)\n",
    "        \n",
    "        # Armazenar melhores parâmetros\n",
    "        best_params[name] = grid_search.best_params_\n",
    "        logging.info(f\"Melhores parâmetros para {name}: {best_params[name]}\")\n",
    "        \n",
    "        # Treinar modelo com melhores parâmetros\n",
    "        best_model = grid_search.best_estimator_\n",
    "        y_pred = best_model.predict(X_test_selected)\n",
    "        \n",
    "        # Calcular métricas\n",
    "        rmse = np.sqrt(mean_squared_error(y_test, y_pred))\n",
    "        mae = mean_absolute_error(y_test, y_pred)\n",
    "        mape = mean_absolute_percentage_error(y_test, y_pred)\n",
    "        r2 = r2_score(y_test, y_pred)\n",
    "        \n",
    "        # Armazenar resultados\n",
    "        results.append({\n",
    "            'Model': name,\n",
    "            'RMSE': rmse,\n",
    "            'MAE': mae,\n",
    "            'MAPE (%)': mape,\n",
    "            'R2': r2\n",
    "        })\n",
    "        \n",
    "        # Armazenar previsões\n",
    "        predictions[name] = y_pred\n",
    "    except Exception as e:\n",
    "        logging.error(f\"Erro ao otimizar {name}: {str(e)}\")\n",
    "        continue"
   ]
  },
  {
   "cell_type": "code",
   "execution_count": 14,
   "id": "149e1cda",
   "metadata": {},
   "outputs": [
    {
     "name": "stdout",
     "output_type": "stream",
     "text": [
      "\n",
      "Melhores Hiperparâmetros:\n",
      "Linear Regression: {}\n",
      "SVR: {'C': 10.0, 'degree': 2, 'epsilon': 0.01, 'kernel': 'linear'}\n",
      "Decision Tree: {'max_depth': 6, 'min_samples_leaf': 3, 'min_samples_split': 2}\n",
      "Gradient Boosting: {'learning_rate': 0.05, 'max_depth': 4, 'min_samples_split': 10, 'n_estimators': 300}\n",
      "Random Forest: {'max_depth': 8, 'min_samples_leaf': 1, 'min_samples_split': 2, 'n_estimators': 50}\n"
     ]
    }
   ],
   "source": [
    "# Exibir melhores parâmetros\n",
    "print(\"\\nMelhores Hiperparâmetros:\")\n",
    "for name, params in best_params.items():\n",
    "    print(f\"{name}: {params}\")"
   ]
  },
  {
   "cell_type": "code",
   "execution_count": 15,
   "id": "0125badd",
   "metadata": {},
   "outputs": [
    {
     "name": "stdout",
     "output_type": "stream",
     "text": [
      "\n",
      "Resultados dos Modelos (com Feature Selection e Hiperparâmetros Otimizados):\n",
      "               Model      RMSE       MAE   MAPE (%)        R2\n",
      "0  Linear Regression  0.110760  0.086118  23.579420  0.822426\n",
      "1                SVR  0.111989  0.083958  21.615759  0.818463\n",
      "2      Decision Tree  0.113943  0.080644  21.459812  0.812073\n",
      "3  Gradient Boosting  0.085188  0.071864  18.558329  0.894955\n",
      "4      Random Forest  0.113918  0.098869  26.551961  0.812156\n"
     ]
    }
   ],
   "source": [
    "# Criar DataFrame com resultados\n",
    "results_df = pd.DataFrame(results)\n",
    "print(\"\\nResultados dos Modelos (com Feature Selection e Hiperparâmetros Otimizados):\")\n",
    "print(results_df)"
   ]
  },
  {
   "cell_type": "code",
   "execution_count": 16,
   "id": "290dd240",
   "metadata": {},
   "outputs": [
    {
     "name": "stdout",
     "output_type": "stream",
     "text": [
      "\n",
      "Melhor Modelo (baseado no RMSE):\n",
      "Model       Gradient Boosting\n",
      "RMSE                 0.085188\n",
      "MAE                  0.071864\n",
      "MAPE (%)            18.558329\n",
      "R2                   0.894955\n",
      "Name: 3, dtype: object\n"
     ]
    }
   ],
   "source": [
    "# Identificar o melhor modelo (menor RMSE)\n",
    "if not results_df.empty:\n",
    "    best_model = results_df.loc[results_df['RMSE'].idxmin()]\n",
    "    print(\"\\nMelhor Modelo (baseado no RMSE):\")\n",
    "    print(best_model)\n",
    "else:\n",
    "    print(\"\\nNenhum modelo foi otimizado com sucesso.\")"
   ]
  }
 ],
 "metadata": {
  "kernelspec": {
   "display_name": "Python 3",
   "language": "python",
   "name": "python3"
  },
  "language_info": {
   "codemirror_mode": {
    "name": "ipython",
    "version": 3
   },
   "file_extension": ".py",
   "mimetype": "text/x-python",
   "name": "python",
   "nbconvert_exporter": "python",
   "pygments_lexer": "ipython3",
   "version": "3.11.2"
  }
 },
 "nbformat": 4,
 "nbformat_minor": 5
}
