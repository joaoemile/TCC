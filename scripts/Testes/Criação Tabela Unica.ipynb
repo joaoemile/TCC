{
 "cells": [
  {
   "cell_type": "code",
   "execution_count": 1,
   "metadata": {},
   "outputs": [],
   "source": [
    "import pandas as pd"
   ]
  },
  {
   "cell_type": "code",
   "execution_count": null,
   "metadata": {},
   "outputs": [],
   "source": [
    "file_path = 'Dados_TCC_2014_2024_Normalizados.xlsx'\n",
    "xls = pd.ExcelFile(file_path)"
   ]
  },
  {
   "cell_type": "code",
   "execution_count": 3,
   "metadata": {},
   "outputs": [],
   "source": [
    "# Carregar os dados de cada planilha em um dicionário\n",
    "dataframes = {sheet: pd.read_excel(xls, sheet_name=sheet) for sheet in xls.sheet_names}"
   ]
  },
  {
   "cell_type": "code",
   "execution_count": 4,
   "metadata": {},
   "outputs": [],
   "source": [
    "# Converter a coluna 'Data padronizada' para o formato de data em todos os dataframes\n",
    "for df in dataframes.values():\n",
    "    df['Data padronizada'] = pd.to_datetime(df['Data padronizada'], format='%m/%Y')"
   ]
  },
  {
   "cell_type": "code",
   "execution_count": 8,
   "metadata": {},
   "outputs": [],
   "source": [
    "# Inicializar uma lista para armazenar as linhas do novo dataframe\n",
    "new_data = []\n"
   ]
  },
  {
   "cell_type": "code",
   "execution_count": 11,
   "metadata": {},
   "outputs": [],
   "source": [
    "# Obter todas as datas e valores da planilha IPCA NOVO\n",
    "ipca_data = dataframes['IPCA NOVO'][['Data padronizada', 'Valor Padronizado']]"
   ]
  },
  {
   "cell_type": "code",
   "execution_count": 13,
   "metadata": {},
   "outputs": [],
   "source": [
    "# Iterar sobre cada linha da planilha IPCA NOVO\n",
    "for _, ipca_row in ipca_data.iterrows():\n",
    "    date = ipca_row['Data padronizada']\n",
    "    ipca_value = ipca_row['Valor Padronizado']\n",
    "    \n",
    "    # Criar uma linha inicial com a data e o valor do IPCA\n",
    "    row = [date, ipca_value]\n",
    "    \n",
    "    # Função para coletar os valores dos últimos 12 meses de uma variável\n",
    "    def get_last_12_months(sheet_name):\n",
    "        values = []\n",
    "        for i in range(12):\n",
    "            month_date = date - pd.DateOffset(months=i)\n",
    "            value = dataframes[sheet_name].loc[dataframes[sheet_name]['Data padronizada'] == month_date, 'Valor Padronizado']\n",
    "            values.append(value.values[0] if not value.empty else None)\n",
    "        return values[::-1]  # Inverte a lista para ordem do mês mais antigo para o mais recente\n",
    "\n",
    "    # Adicionar os últimos 12 meses de valores de IPCA (excluindo o mês da data de referência)\n",
    "    row.extend(get_last_12_months('IPCA NOVO')[:-1])\n",
    "\n",
    "    # Adicionar os últimos 12 meses de valores de DOLAR\n",
    "    row.extend(get_last_12_months('DOLAR'))\n",
    "\n",
    "    # Adicionar os últimos 12 meses de valores de SELIC\n",
    "    row.extend(get_last_12_months('SELIC'))\n",
    "\n",
    "    # Adicionar os últimos 12 meses de valores de PETROLEO\n",
    "    row.extend(get_last_12_months('PETROLEO'))\n",
    "\n",
    "    # Adicionar os últimos 12 meses de valores de IPP NOVO\n",
    "    row.extend(get_last_12_months('IPP NOVO'))\n",
    "\n",
    "    # Adicionar os últimos 12 meses de valores de DESEMPREGO NOVO\n",
    "    row.extend(get_last_12_months('DESEMPREGO NOVO'))\n",
    "\n",
    "    # Adicionar a linha ao novo dataframe\n",
    "    new_data.append(row)"
   ]
  },
  {
   "cell_type": "code",
   "execution_count": 16,
   "metadata": {},
   "outputs": [],
   "source": [
    "# Criar um novo DataFrame com os dados coletados\n",
    "columns = ['Data Referência', 'Valor IPCA'] + \\\n",
    "          [f'IPCA Mês {i-12}' for i in range(11)] + \\\n",
    "          [f'DOLAR Mês {i-11}' for i in range(12)] + \\\n",
    "          [f'SELIC Mês {i-11}' for i in range(12)] + \\\n",
    "          [f'PETROLEO Mês {i-11}' for i in range(12)] + \\\n",
    "          [f'IPP NOVO Mês {i-11}' for i in range(12)] + \\\n",
    "          [f'DESEMPREGO Mês {i-11}' for i in range(12)]\n",
    "\n",
    "new_df = pd.DataFrame(new_data, columns=columns)\n"
   ]
  },
  {
   "cell_type": "code",
   "execution_count": 18,
   "metadata": {},
   "outputs": [
    {
     "name": "stdout",
     "output_type": "stream",
     "text": [
      "Arquivo salvo em: C:\\Users\\JoãoEmileXimenesMuri\\Documents\\pessoal\\TCC\\Bases TCC\\Dados_TCC_2014_2024_Normalizados_TabUnica.xlsx\n"
     ]
    }
   ],
   "source": [
    "# Salvar o novo DataFrame em um arquivo Excel\n",
    "output_file_path = 'C:\\\\Users\\\\JoãoEmileXimenesMuri\\\\Documents\\\\pessoal\\\\TCC\\\\Bases TCC\\\\Dados_TCC_2014_2024_Normalizados_TabUnica.xlsx'\n",
    "new_df.to_excel(output_file_path, index=False)\n",
    "print(f'Arquivo salvo em: {output_file_path}')"
   ]
  }
 ],
 "metadata": {
  "kernelspec": {
   "display_name": "Python 3",
   "language": "python",
   "name": "python3"
  },
  "language_info": {
   "codemirror_mode": {
    "name": "ipython",
    "version": 3
   },
   "file_extension": ".py",
   "mimetype": "text/x-python",
   "name": "python",
   "nbconvert_exporter": "python",
   "pygments_lexer": "ipython3",
   "version": "3.11.2"
  }
 },
 "nbformat": 4,
 "nbformat_minor": 2
}
