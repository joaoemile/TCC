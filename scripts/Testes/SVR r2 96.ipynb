{
 "cells": [
  {
   "cell_type": "code",
   "execution_count": 1,
   "metadata": {},
   "outputs": [],
   "source": [
    "import pandas as pd\n",
    "from sklearn.feature_selection import SelectKBest, SelectPercentile, f_regression\n",
    "from sklearn.model_selection import GridSearchCV, train_test_split\n",
    "from sklearn.linear_model import LinearRegression\n",
    "from sklearn.svm import SVR\n",
    "from sklearn.tree import DecisionTreeRegressor\n",
    "from sklearn.ensemble import RandomForestRegressor, GradientBoostingRegressor\n",
    "from sklearn.metrics import mean_squared_error, r2_score\n",
    "import numpy as np"
   ]
  },
  {
   "cell_type": "code",
   "execution_count": 2,
   "metadata": {},
   "outputs": [],
   "source": [
    "# Carregar dados\n",
    "file_path = 'C:\\\\Users\\\\JoãoEmileXimenesMuri\\\\Documents\\\\pessoal\\\\TCC\\\\Bases TCC\\\\Dados_TCC_2014_2024_Normalizados_TabUnica.xlsx'\n",
    "data = pd.read_excel(file_path, sheet_name='Planilha1')"
   ]
  },
  {
   "cell_type": "code",
   "execution_count": 3,
   "metadata": {},
   "outputs": [],
   "source": [
    "# Processar dados\n",
    "data['Data Referência'] = pd.to_datetime(data['Data Referência'])\n",
    "data['IPCA Próximo Mês'] = data['Valor IPCA'].shift(-1)\n",
    "data = data.dropna()\n",
    "\n",
    "X = data.drop(columns=['Data Referência', 'IPCA Próximo Mês'])\n",
    "y = data['IPCA Próximo Mês']"
   ]
  },
  {
   "cell_type": "code",
   "execution_count": 4,
   "metadata": {},
   "outputs": [],
   "source": [
    "# Divisão dos dados respeitando ordem temporal\n",
    "split_index = int(len(X) * 0.8)\n",
    "X_train, X_test = X.iloc[:split_index], X.iloc[split_index:]\n",
    "y_train, y_test = y.iloc[:split_index], y.iloc[split_index:]"
   ]
  },
  {
   "cell_type": "code",
   "execution_count": 5,
   "metadata": {},
   "outputs": [],
   "source": [
    "# Parâmetros para seleção de features\n",
    "k_values = [5, 10, 15]\n",
    "percentile_values = [10, 20, 30]\n",
    "melhor_r2 = float('-inf')\n",
    "melhor_X_train = None\n",
    "melhor_X_test = None\n",
    "melhores_features = None"
   ]
  },
  {
   "cell_type": "code",
   "execution_count": 6,
   "metadata": {},
   "outputs": [
    {
     "name": "stdout",
     "output_type": "stream",
     "text": [
      "Melhores features selecionadas: ['Valor IPCA', 'IPCA Mês -12', 'IPCA Mês -11', 'IPCA Mês -10', 'IPCA Mês -9', 'IPCA Mês -8', 'IPCA Mês -7', 'IPCA Mês -6', 'IPCA Mês -5', 'IPCA Mês -4', 'IPCA Mês -3', 'IPCA Mês -2', 'DOLAR Mês -11', 'DOLAR Mês -10', 'DOLAR Mês -9', 'DOLAR Mês -8', 'DOLAR Mês -7', 'DOLAR Mês -6', 'DOLAR Mês -5', 'DOLAR Mês -4', 'DOLAR Mês -3', 'DOLAR Mês -2']\n"
     ]
    }
   ],
   "source": [
    "# FEATURE SELECTION\n",
    "\n",
    "for k in k_values:\n",
    "    for p in percentile_values:\n",
    "        skb = SelectKBest(score_func=f_regression, k=min(k, X_train.shape[1]))\n",
    "        sp = SelectPercentile(score_func=f_regression, percentile=p)\n",
    "        \n",
    "        X_train_kbest = skb.fit_transform(X_train, y_train)\n",
    "        X_test_kbest = skb.transform(X_test)\n",
    "        selected_features_kbest = X_train.columns[skb.get_support()]\n",
    "        \n",
    "        X_train_percentile = sp.fit_transform(X_train, y_train)\n",
    "        X_test_percentile = sp.transform(X_test)\n",
    "        selected_features_percentile = X_train.columns[sp.get_support()]\n",
    "        \n",
    "        for X_train_selected, X_test_selected, selected_features in [\n",
    "            (X_train_kbest, X_test_kbest, selected_features_kbest), \n",
    "            (X_train_percentile, X_test_percentile, selected_features_percentile)]:\n",
    "            \n",
    "            model = LinearRegression()\n",
    "            model.fit(X_train_selected, y_train)\n",
    "            y_pred = model.predict(X_test_selected)\n",
    "            r2 = r2_score(y_test, y_pred)\n",
    "            \n",
    "            if r2 > melhor_r2:\n",
    "                melhor_r2 = r2\n",
    "                melhor_X_train = X_train_selected\n",
    "                melhor_X_test = X_test_selected\n",
    "                melhores_features = selected_features\n",
    "\n",
    "print(f\"Melhores features selecionadas: {list(melhores_features)}\")"
   ]
  },
  {
   "cell_type": "code",
   "execution_count": 7,
   "metadata": {},
   "outputs": [],
   "source": [
    "# Modelos a serem testados\n",
    "modelos = {\n",
    "    \"Regressão Linear\": LinearRegression(),\n",
    "    \"SVR\": SVR(),\n",
    "    \"Decision Tree\": DecisionTreeRegressor(),\n",
    "    \"Random Forest\": RandomForestRegressor(),\n",
    "    \"Gradient Boosting\": GradientBoostingRegressor()\n",
    "}"
   ]
  },
  {
   "cell_type": "code",
   "execution_count": 8,
   "metadata": {},
   "outputs": [
    {
     "name": "stdout",
     "output_type": "stream",
     "text": [
      "Modelo: Regressão Linear\n",
      "Melhores parâmetros: {}\n",
      "MSE: 0.0001\n",
      "R²: 0.9654\n",
      "==================================================\n",
      "Modelo: SVR\n",
      "Melhores parâmetros: {'C': 10, 'epsilon': 0.001, 'kernel': 'linear'}\n",
      "MSE: 0.0001\n",
      "R²: 0.9532\n",
      "==================================================\n",
      "Modelo: Decision Tree\n",
      "Melhores parâmetros: {'max_depth': 10, 'min_samples_leaf': 2, 'min_samples_split': 2}\n",
      "MSE: 0.0254\n",
      "R²: -10.2729\n",
      "==================================================\n",
      "Modelo: Random Forest\n",
      "Melhores parâmetros: {'max_depth': None, 'min_samples_leaf': 1, 'min_samples_split': 2, 'n_estimators': 100}\n",
      "MSE: 0.0173\n",
      "R²: -6.6617\n",
      "==================================================\n",
      "Modelo: Gradient Boosting\n",
      "Melhores parâmetros: {'learning_rate': 0.1, 'max_depth': 3, 'n_estimators': 100}\n",
      "MSE: 0.0097\n",
      "R²: -3.2911\n",
      "==================================================\n"
     ]
    }
   ],
   "source": [
    "# GridSearch para cada modelo\n",
    "for nome, modelo in modelos.items():\n",
    "    parametros = {}\n",
    "    if isinstance(modelo, SVR):\n",
    "        parametros = {'C': [0.1, 1, 10], 'epsilon': [0.001, 0.01, 0.1], 'kernel': ['linear', 'rbf']}\n",
    "    elif isinstance(modelo, DecisionTreeRegressor):\n",
    "        parametros = {'max_depth': [3, 5, 10], 'min_samples_split': [2, 5, 10], 'min_samples_leaf': [1, 2, 4]}\n",
    "    elif isinstance(modelo, RandomForestRegressor):\n",
    "        parametros = {'n_estimators': [100, 200], 'max_depth': [None, 10], 'min_samples_split': [2, 5], 'min_samples_leaf': [1, 2]}\n",
    "    elif isinstance(modelo, GradientBoostingRegressor):\n",
    "        parametros = {'n_estimators': [50, 100], 'learning_rate': [0.01, 0.1], 'max_depth': [3, 5]}\n",
    "    \n",
    "    grid_search = GridSearchCV(modelo, parametros, cv=5, scoring= 'r2', refit=True)\n",
    "    grid_search.fit(melhor_X_train, y_train)\n",
    "    \n",
    "    melhor_modelo = grid_search.best_estimator_\n",
    "    y_pred = melhor_modelo.predict(melhor_X_test)\n",
    "    mse = mean_squared_error(y_test, y_pred)\n",
    "    r2 = r2_score(y_test, y_pred)\n",
    "    \n",
    "    print(f\"Modelo: {nome}\")\n",
    "    print(f\"Melhores parâmetros: {grid_search.best_params_}\")\n",
    "    print(f\"MSE: {mse:.4f}\")\n",
    "    print(f\"R²: {r2:.4f}\")\n",
    "    print(\"=\"*50)"
   ]
  },
  {
   "cell_type": "code",
   "execution_count": 9,
   "metadata": {},
   "outputs": [
    {
     "name": "stdout",
     "output_type": "stream",
     "text": [
      "Fitting 3 folds for each of 360 candidates, totalling 1080 fits\n",
      "Melhores parâmetros MLP: {'activation': 'relu', 'alpha': 0.01, 'hidden_layer_sizes': (256,), 'max_iter': 1000, 'solver': 'lbfgs'}\n",
      "R² MLP no teste: -1.6680635152021934\n",
      "MSE MLP no teste: 0.006020512608816839\n"
     ]
    }
   ],
   "source": [
    "import pandas as pd\n",
    "import numpy as np\n",
    "from sklearn.model_selection import train_test_split, GridSearchCV\n",
    "from sklearn.metrics import mean_squared_error, r2_score\n",
    "from sklearn.neural_network import MLPRegressor\n",
    "\n",
    "# Carregar dados\n",
    "data = pd.read_excel('C:\\\\Users\\\\JoãoEmileXimenesMuri\\\\Documents\\\\pessoal\\\\TCC\\\\Bases TCC\\\\Dados_TCC_2014_2024_Normalizados_TabUnica.xlsx', sheet_name='Planilha1')\n",
    "data['Data Referência'] = pd.to_datetime(data['Data Referência'])\n",
    "data['IPCA Próximo Mês'] = data['Valor IPCA'].shift(-1)\n",
    "data = data.dropna()\n",
    "\n",
    "X = data.drop(columns=['Data Referência', 'IPCA Próximo Mês'])\n",
    "y = data['IPCA Próximo Mês']\n",
    "\n",
    "# Divisão dos dados\n",
    "split_index = int(len(X) * 0.8)\n",
    "X_train, X_test = X.iloc[:split_index], X.iloc[split_index:]\n",
    "y_train, y_test = y.iloc[:split_index], y.iloc[split_index:]\n",
    "\n",
    "# Definir hiperparâmetros para GridSearch\n",
    "param_grid_mlp = {\n",
    "    'hidden_layer_sizes': [(64,), (128,), (256,), (64, 32), (128, 64, 32)],\n",
    "    'max_iter': [1000, 2000, 5000],\n",
    "    'solver': ['adam', 'lbfgs', 'sgd'],\n",
    "    'alpha': [0.0001, 0.001, 0.01, 0.1],\n",
    "    'activation': ['relu', 'tanh']\n",
    "}\n",
    "\n",
    "# Criar modelo e aplicar GridSearch\n",
    "mlp = MLPRegressor(random_state=42, early_stopping=True)\n",
    "grid_mlp = GridSearchCV(estimator=mlp, param_grid=param_grid_mlp, cv=3, scoring='r2', verbose=1, n_jobs=-1)\n",
    "grid_result_mlp = grid_mlp.fit(X_train, y_train)\n",
    "\n",
    "# Melhor modelo e avaliação\n",
    "best_model_mlp = grid_result_mlp.best_estimator_\n",
    "y_pred_mlp = best_model_mlp.predict(X_test)\n",
    "\n",
    "# Avaliação do modelo\n",
    "print(\"Melhores parâmetros MLP:\", grid_result_mlp.best_params_)\n",
    "print(\"R² MLP no teste:\", r2_score(y_test, y_pred_mlp))\n",
    "print(\"MSE MLP no teste:\", mean_squared_error(y_test, y_pred_mlp))\n"
   ]
  },
  {
   "cell_type": "code",
   "execution_count": 19,
   "metadata": {},
   "outputs": [
    {
     "name": "stdout",
     "output_type": "stream",
     "text": [
      "Fitting 3 folds for each of 72 candidates, totalling 216 fits\n",
      "Melhores parâmetros MLP: {'activation': 'tanh', 'alpha': 0.01, 'hidden_layer_sizes': (64,), 'max_iter': 2000, 'solver': 'lbfgs'}\n",
      "R² MLP no teste: -0.4613376658226258\n",
      "MSE MLP no teste: 0.0032975233882906086\n"
     ]
    }
   ],
   "source": [
    "import pandas as pd\n",
    "import numpy as np\n",
    "from sklearn.model_selection import train_test_split, GridSearchCV\n",
    "from sklearn.metrics import mean_squared_error, r2_score\n",
    "from sklearn.neural_network import MLPRegressor\n",
    "from sklearn.preprocessing import StandardScaler\n",
    "\n",
    "# Carregar dados\n",
    "data = pd.read_excel('C:\\\\Users\\\\JoãoEmileXimenesMuri\\\\Documents\\\\pessoal\\\\TCC\\\\Bases TCC\\\\Dados_TCC_2014_2024_Normalizados_TabUnica.xlsx', sheet_name='Planilha1')\n",
    "data['Data Referência'] = pd.to_datetime(data['Data Referência'])\n",
    "data['IPCA Próximo Mês'] = data['Valor IPCA'].shift(-1)\n",
    "data = data.dropna()\n",
    "\n",
    "X = data.drop(columns=['Data Referência', 'IPCA Próximo Mês'])\n",
    "y = data['IPCA Próximo Mês']\n",
    "\n",
    "\n",
    "# Divisão dos dados\n",
    "split_index = int(len(X) * 0.8)\n",
    "X_train, X_test = X.iloc[:split_index], X.iloc[split_index:]\n",
    "y_train, y_test = y.iloc[:split_index], y.iloc[split_index:]\n",
    "\n",
    "# Definir hiperparâmetros para GridSearch\n",
    "param_grid_mlp = {\n",
    "    'hidden_layer_sizes': [(64,), (128,), (64, 32)],\n",
    "    'max_iter': [2000, 5000],\n",
    "    'solver': ['adam', 'lbfgs'],\n",
    "    'alpha': [0.0001, 0.001, 0.01],\n",
    "    'activation': ['relu', 'tanh']\n",
    "}\n",
    "\n",
    "# Criar modelo e aplicar GridSearch\n",
    "mlp = MLPRegressor(random_state=42, early_stopping=False)\n",
    "grid_mlp = GridSearchCV(estimator=mlp, param_grid=param_grid_mlp, cv=3, scoring='r2', verbose=1, n_jobs=-1)\n",
    "grid_result_mlp = grid_mlp.fit(X_train, y_train)\n",
    "\n",
    "# Melhor modelo e avaliação\n",
    "best_model_mlp = grid_result_mlp.best_estimator_\n",
    "y_pred_mlp = best_model_mlp.predict(X_test)\n",
    "\n",
    "# Avaliação do modelo\n",
    "print(\"Melhores parâmetros MLP:\", grid_result_mlp.best_params_)\n",
    "print(\"R² MLP no teste:\", r2_score(y_test, y_pred_mlp))\n",
    "print(\"MSE MLP no teste:\", mean_squared_error(y_test, y_pred_mlp))\n"
   ]
  },
  {
   "cell_type": "code",
   "execution_count": 20,
   "metadata": {},
   "outputs": [
    {
     "name": "stdout",
     "output_type": "stream",
     "text": [
      "Fitting 3 folds for each of 1440 candidates, totalling 4320 fits\n",
      "Melhores parâmetros MLP: {'activation': 'relu', 'alpha': 0.01, 'early_stopping': True, 'hidden_layer_sizes': (256,), 'learning_rate': 'constant', 'learning_rate_init': 0.001, 'max_iter': 1000, 'solver': 'lbfgs'}\n",
      "R² MLP no teste: -1.6680635152021934\n",
      "MSE MLP no teste: 0.006020512608816839\n"
     ]
    }
   ],
   "source": [
    "import pandas as pd\n",
    "import numpy as np\n",
    "from sklearn.model_selection import train_test_split, GridSearchCV\n",
    "from sklearn.metrics import mean_squared_error, r2_score\n",
    "from sklearn.neural_network import MLPRegressor\n",
    "from sklearn.preprocessing import StandardScaler\n",
    "\n",
    "# Carregar dados\n",
    "data = pd.read_excel('C:\\\\Users\\\\JoãoEmileXimenesMuri\\\\Documents\\\\pessoal\\\\TCC\\\\Bases TCC\\\\Dados_TCC_2014_2024_Normalizados_TabUnica.xlsx', sheet_name='Planilha1')\n",
    "data['Data Referência'] = pd.to_datetime(data['Data Referência'])\n",
    "data['IPCA Próximo Mês'] = data['Valor IPCA'].shift(-1)\n",
    "data = data.dropna()\n",
    "\n",
    "X = data.drop(columns=['Data Referência', 'IPCA Próximo Mês'])\n",
    "y = data['IPCA Próximo Mês']\n",
    "\n",
    "# Divisão dos dados\n",
    "split_index = int(len(X) * 0.8)\n",
    "X_train, X_test = X.iloc[:split_index], X.iloc[split_index:]\n",
    "y_train, y_test = y.iloc[:split_index], y.iloc[split_index:]\n",
    "\n",
    "# Definir hiperparâmetros para GridSearch\n",
    "param_grid_mlp = {\n",
    "    'hidden_layer_sizes': [(64,), (128,), (256,), (64, 64), (128, 64)],\n",
    "    'max_iter': [1000, 2000, 5000],\n",
    "    'solver': ['adam', 'lbfgs'],\n",
    "    'alpha': [0.0001, 0.001, 0.01],\n",
    "    'activation': ['relu', 'tanh'],\n",
    "    'learning_rate': ['constant', 'adaptive'],\n",
    "    'learning_rate_init': [0.001, 0.01],\n",
    "    'early_stopping': [True, False]\n",
    "}\n",
    "\n",
    "# Criar modelo e aplicar GridSearch\n",
    "mlp = MLPRegressor(random_state=42)\n",
    "grid_mlp = GridSearchCV(estimator=mlp, param_grid=param_grid_mlp, cv=3, scoring='r2', verbose=1, n_jobs=-1)\n",
    "grid_result_mlp = grid_mlp.fit(X_train, y_train)\n",
    "\n",
    "# Melhor modelo e avaliação\n",
    "best_model_mlp = grid_result_mlp.best_estimator_\n",
    "y_pred_mlp = best_model_mlp.predict(X_test)\n",
    "\n",
    "# Avaliação do modelo\n",
    "print(\"Melhores parâmetros MLP:\", grid_result_mlp.best_params_)\n",
    "print(\"R² MLP no teste:\", r2_score(y_test, y_pred_mlp))\n",
    "print(\"MSE MLP no teste:\", mean_squared_error(y_test, y_pred_mlp))\n"
   ]
  }
 ],
 "metadata": {
  "kernelspec": {
   "display_name": "Python 3",
   "language": "python",
   "name": "python3"
  },
  "language_info": {
   "codemirror_mode": {
    "name": "ipython",
    "version": 3
   },
   "file_extension": ".py",
   "mimetype": "text/x-python",
   "name": "python",
   "nbconvert_exporter": "python",
   "pygments_lexer": "ipython3",
   "version": "3.11.2"
  }
 },
 "nbformat": 4,
 "nbformat_minor": 2
}
