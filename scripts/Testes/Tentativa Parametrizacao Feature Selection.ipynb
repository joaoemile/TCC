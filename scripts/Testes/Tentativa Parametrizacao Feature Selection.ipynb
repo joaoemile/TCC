{
 "cells": [
  {
   "cell_type": "code",
   "execution_count": 1,
   "metadata": {},
   "outputs": [],
   "source": [
    "# TESTES REALIZADOS ABAIXO NÃO UTILIZARAM TIME SERIES SPLIT DEVIDO A ERRO EM TENTATIVAS ANTERIORES, AO INVES DISSO FORAM UTILIZADAS DIVISÃO 80/20 RESPEITANDO A ORDEM TEMPORAL"
   ]
  },
  {
   "cell_type": "code",
   "execution_count": 2,
   "metadata": {},
   "outputs": [],
   "source": [
    "import pandas as pd\n",
    "from sklearn.feature_selection import SelectKBest, SelectPercentile, f_regression\n",
    "from sklearn.model_selection import GridSearchCV, train_test_split\n",
    "from sklearn.linear_model import LinearRegression\n",
    "from sklearn.svm import SVR\n",
    "from sklearn.tree import DecisionTreeRegressor\n",
    "from sklearn.ensemble import RandomForestRegressor, GradientBoostingRegressor\n",
    "from sklearn.metrics import mean_squared_error, r2_score\n",
    "import numpy as np"
   ]
  },
  {
   "cell_type": "code",
   "execution_count": 4,
   "metadata": {},
   "outputs": [],
   "source": [
    "# Carregar dados\n",
    "file_path = 'C:\\\\Users\\\\JoãoEmileXimenesMuri\\\\Documents\\\\pessoal\\\\TCC\\\\Bases TCC\\\\Dados_TCC_2014_2024_Normalizados_TabUnica.xlsx'\n",
    "data = pd.read_excel(file_path, sheet_name='Sheet1')"
   ]
  },
  {
   "cell_type": "code",
   "execution_count": 5,
   "metadata": {},
   "outputs": [],
   "source": [
    "# Processar dados\n",
    "data['Data Referência'] = pd.to_datetime(data['Data Referência'])\n",
    "data['IPCA Próximo Mês'] = data['Valor IPCA'].shift(-1)\n",
    "data = data.dropna()\n",
    "\n",
    "X = data.drop(columns=['Data Referência', 'IPCA Próximo Mês'])\n",
    "y = data['IPCA Próximo Mês']"
   ]
  },
  {
   "cell_type": "code",
   "execution_count": 6,
   "metadata": {},
   "outputs": [],
   "source": [
    "# Divisão dos dados respeitando ordem temporal\n",
    "split_index = int(len(X) * 0.8)\n",
    "X_train, X_test = X.iloc[:split_index], X.iloc[split_index:]\n",
    "y_train, y_test = y.iloc[:split_index], y.iloc[split_index:]\n"
   ]
  },
  {
   "cell_type": "code",
   "execution_count": 7,
   "metadata": {},
   "outputs": [],
   "source": [
    "# Parâmetros para seleção de features\n",
    "k_values = [5, 10, 15]\n",
    "percentile_values = [10, 20, 30]\n",
    "melhor_r2 = float('-inf')\n",
    "melhor_X_train = None\n",
    "melhor_X_test = None\n",
    "melhores_features = None"
   ]
  },
  {
   "cell_type": "code",
   "execution_count": 8,
   "metadata": {},
   "outputs": [
    {
     "name": "stdout",
     "output_type": "stream",
     "text": [
      "Melhores features selecionadas: ['Valor IPCA', 'IPCA Mês -10', 'IPCA Mês -9', 'IPCA Mês -8', 'IPCA Mês -7', 'IPCA Mês -6', 'IPCA Mês -5', 'IPCA Mês -4', 'IPCA Mês -3', 'IPCA Mês -2', 'SELIC Mês -2', 'SELIC Mês -1', 'SELIC Mês 0', 'IPP NOVO Mês -10', 'DESEMPREGO Mês -11', 'DESEMPREGO Mês -10', 'DESEMPREGO Mês -5', 'DESEMPREGO Mês -4', 'DESEMPREGO Mês -3', 'DESEMPREGO Mês -2', 'DESEMPREGO Mês -1', 'DESEMPREGO Mês 0']\n"
     ]
    }
   ],
   "source": [
    "# FEATURE SELECTION\n",
    "\n",
    "for k in k_values:\n",
    "    for p in percentile_values:\n",
    "        skb = SelectKBest(score_func=f_regression, k=min(k, X_train.shape[1]))\n",
    "        sp = SelectPercentile(score_func=f_regression, percentile=p)\n",
    "        \n",
    "        X_train_kbest = skb.fit_transform(X_train, y_train)\n",
    "        X_test_kbest = skb.transform(X_test)\n",
    "        selected_features_kbest = X_train.columns[skb.get_support()]\n",
    "        \n",
    "        X_train_percentile = sp.fit_transform(X_train, y_train)\n",
    "        X_test_percentile = sp.transform(X_test)\n",
    "        selected_features_percentile = X_train.columns[sp.get_support()]\n",
    "        \n",
    "        for X_train_selected, X_test_selected, selected_features in [\n",
    "            (X_train_kbest, X_test_kbest, selected_features_kbest), \n",
    "            (X_train_percentile, X_test_percentile, selected_features_percentile)]:\n",
    "            \n",
    "            model = LinearRegression()\n",
    "            model.fit(X_train_selected, y_train)\n",
    "            y_pred = model.predict(X_test_selected)\n",
    "            r2 = r2_score(y_test, y_pred)\n",
    "            \n",
    "            if r2 > melhor_r2:\n",
    "                melhor_r2 = r2\n",
    "                melhor_X_train = X_train_selected\n",
    "                melhor_X_test = X_test_selected\n",
    "                melhores_features = selected_features\n",
    "\n",
    "print(f\"Melhores features selecionadas: {list(melhores_features)}\")"
   ]
  },
  {
   "cell_type": "code",
   "execution_count": 9,
   "metadata": {},
   "outputs": [],
   "source": [
    "# Modelos a serem testados\n",
    "modelos = {\n",
    "    \"Regressão Linear\": LinearRegression(),\n",
    "    \"SVR\": SVR(),\n",
    "    \"Decision Tree\": DecisionTreeRegressor(),\n",
    "    \"Random Forest\": RandomForestRegressor(),\n",
    "    \"Gradient Boosting\": GradientBoostingRegressor()\n",
    "}"
   ]
  },
  {
   "cell_type": "code",
   "execution_count": 10,
   "metadata": {},
   "outputs": [
    {
     "name": "stdout",
     "output_type": "stream",
     "text": [
      "Modelo: Regressão Linear\n",
      "Melhores parâmetros: {}\n",
      "MSE: 0.0034\n",
      "R²: 0.9505\n",
      "==================================================\n",
      "Modelo: SVR\n",
      "Melhores parâmetros: {'C': 10, 'epsilon': 0.01, 'kernel': 'linear'}\n",
      "MSE: 0.0044\n",
      "R²: 0.9369\n",
      "==================================================\n",
      "Modelo: Decision Tree\n",
      "Melhores parâmetros: {'max_depth': 5, 'min_samples_leaf': 4, 'min_samples_split': 10}\n",
      "MSE: 0.0120\n",
      "R²: 0.8261\n",
      "==================================================\n",
      "Modelo: Random Forest\n",
      "Melhores parâmetros: {'max_depth': None, 'min_samples_leaf': 2, 'min_samples_split': 5, 'n_estimators': 100}\n",
      "MSE: 0.0072\n",
      "R²: 0.8962\n",
      "==================================================\n",
      "Modelo: Gradient Boosting\n",
      "Melhores parâmetros: {'learning_rate': 0.1, 'max_depth': 5, 'n_estimators': 50}\n",
      "MSE: 0.0120\n",
      "R²: 0.8261\n",
      "==================================================\n"
     ]
    }
   ],
   "source": [
    "# GridSearch para cada modelo\n",
    "for nome, modelo in modelos.items():\n",
    "    parametros = {}\n",
    "    if isinstance(modelo, SVR):\n",
    "        parametros = {'C': [0.1, 1, 10], 'epsilon': [0.001, 0.01, 0.1], 'kernel': ['linear', 'rbf']}\n",
    "    elif isinstance(modelo, DecisionTreeRegressor):\n",
    "        parametros = {'max_depth': [3, 5, 10], 'min_samples_split': [2, 5, 10], 'min_samples_leaf': [1, 2, 4]}\n",
    "    elif isinstance(modelo, RandomForestRegressor):\n",
    "        parametros = {'n_estimators': [100, 200], 'max_depth': [None, 10], 'min_samples_split': [2, 5], 'min_samples_leaf': [1, 2]}\n",
    "    elif isinstance(modelo, GradientBoostingRegressor):\n",
    "        parametros = {'n_estimators': [50, 100], 'learning_rate': [0.01, 0.1], 'max_depth': [3, 5]}\n",
    "    \n",
    "    grid_search = GridSearchCV(modelo, parametros, cv=5, scoring= 'r2', refit=True)\n",
    "    grid_search.fit(melhor_X_train, y_train)\n",
    "    \n",
    "    melhor_modelo = grid_search.best_estimator_\n",
    "    y_pred = melhor_modelo.predict(melhor_X_test)\n",
    "    mse = mean_squared_error(y_test, y_pred)\n",
    "    r2 = r2_score(y_test, y_pred)\n",
    "    \n",
    "    print(f\"Modelo: {nome}\")\n",
    "    print(f\"Melhores parâmetros: {grid_search.best_params_}\")\n",
    "    print(f\"MSE: {mse:.4f}\")\n",
    "    print(f\"R²: {r2:.4f}\")\n",
    "    print(\"=\"*50)"
   ]
  },
  {
   "cell_type": "code",
   "execution_count": null,
   "metadata": {},
   "outputs": [],
   "source": [
    "#ABAIXO TESTE REALIDADO SEM FEATURE SELECTION E UTILIZANDO A MESMA DIVISÃO DE TREINO E TESTE - MSE PARA MELHOR MODELO"
   ]
  },
  {
   "cell_type": "code",
   "execution_count": 11,
   "metadata": {},
   "outputs": [
    {
     "name": "stdout",
     "output_type": "stream",
     "text": [
      "Linear Regression: MSE = 0.5631, R2 = -7.1503\n",
      "SVR: MSE = 0.0553, R2 = 0.1996\n",
      "Decision Tree: MSE = 0.0165, R2 = 0.7605\n",
      "Random Forest: MSE = 0.0089, R2 = 0.8713\n",
      "Gradient Boosting: MSE = 0.0122, R2 = 0.8227\n"
     ]
    }
   ],
   "source": [
    "import pandas as pd\n",
    "from sklearn.model_selection import GridSearchCV\n",
    "from sklearn.linear_model import LinearRegression\n",
    "from sklearn.svm import SVR\n",
    "from sklearn.tree import DecisionTreeRegressor\n",
    "from sklearn.ensemble import RandomForestRegressor, GradientBoostingRegressor\n",
    "from sklearn.metrics import mean_squared_error, r2_score\n",
    "import numpy as np\n",
    "\n",
    "# Carregar dados\n",
    "file_path = 'C:\\\\Users\\\\JoãoEmileXimenesMuri\\\\Documents\\\\pessoal\\\\TCC\\\\Bases TCC\\\\Dados_TCC_2014_2024_Normalizados_TabUnica.xlsx'\n",
    "data = pd.read_excel(file_path, sheet_name='Sheet1')\n",
    "\n",
    "# Processar dados\n",
    "data['Data Referência'] = pd.to_datetime(data['Data Referência'])\n",
    "data['IPCA Próximo Mês'] = data['Valor IPCA'].shift(-1)\n",
    "data = data.dropna()\n",
    "\n",
    "X = data.drop(columns=['Data Referência', 'IPCA Próximo Mês'])\n",
    "y = data['IPCA Próximo Mês']\n",
    "\n",
    "# Divisão dos dados respeitando ordem temporal\n",
    "split_index = int(len(X) * 0.8)\n",
    "X_train, X_test = X.iloc[:split_index], X.iloc[split_index:]\n",
    "y_train, y_test = y.iloc[:split_index], y.iloc[split_index:]\n",
    "\n",
    "# Treinamento e avaliação dos modelos\n",
    "models = {\n",
    "    \"Linear Regression\": LinearRegression(),\n",
    "    \"SVR\": SVR(),\n",
    "    \"Decision Tree\": DecisionTreeRegressor(),\n",
    "    \"Random Forest\": RandomForestRegressor(),\n",
    "    \"Gradient Boosting\": GradientBoostingRegressor()\n",
    "}\n",
    "\n",
    "results = {}\n",
    "for name, model in models.items():\n",
    "    model.fit(X_train, y_train)\n",
    "    y_pred = model.predict(X_test)\n",
    "    mse = mean_squared_error(y_test, y_pred)\n",
    "    r2 = r2_score(y_test, y_pred)\n",
    "    results[name] = {\"MSE\": mse, \"R2\": r2}\n",
    "\n",
    "# Exibir resultados\n",
    "for model, scores in results.items():\n",
    "    print(f\"{model}: MSE = {scores['MSE']:.4f}, R2 = {scores['R2']:.4f}\")\n"
   ]
  },
  {
   "cell_type": "code",
   "execution_count": null,
   "metadata": {},
   "outputs": [],
   "source": [
    "#ABAIXO TESTE REALIDADO SEM FEATURE SELECTION E UTILIZANDO A MESMA DIVISÃO DE TREINO E TESTE - R2 PARA MELHOR MODELO"
   ]
  },
  {
   "cell_type": "code",
   "execution_count": 13,
   "metadata": {},
   "outputs": [
    {
     "name": "stdout",
     "output_type": "stream",
     "text": [
      "SVR: Melhor R2 = -2.5388, Melhores Parâmetros = {'C': 1, 'kernel': 'rbf'}\n",
      "Decision Tree: Melhor R2 = -1.2714, Melhores Parâmetros = {'max_depth': 3}\n",
      "Random Forest: Melhor R2 = -0.5060, Melhores Parâmetros = {'max_depth': 5, 'n_estimators': 100}\n",
      "Gradient Boosting: Melhor R2 = -0.1189, Melhores Parâmetros = {'learning_rate': 0.2, 'n_estimators': 200}\n"
     ]
    }
   ],
   "source": [
    "import pandas as pd\n",
    "from sklearn.model_selection import GridSearchCV\n",
    "from sklearn.linear_model import LinearRegression\n",
    "from sklearn.svm import SVR\n",
    "from sklearn.tree import DecisionTreeRegressor\n",
    "from sklearn.ensemble import RandomForestRegressor, GradientBoostingRegressor\n",
    "from sklearn.metrics import mean_squared_error, r2_score\n",
    "import numpy as np\n",
    "\n",
    "# Carregar dados\n",
    "file_path = r'C:\\\\Users\\\\JoãoEmileXimenesMuri\\\\Documents\\\\pessoal\\\\TCC\\\\Bases TCC\\\\Dados_TCC_2014_2024_Normalizados_TabUnica.xlsx'\n",
    "data = pd.read_excel(file_path, sheet_name='Sheet1')\n",
    "\n",
    "# Processar dados\n",
    "data['Data Referência'] = pd.to_datetime(data['Data Referência'])\n",
    "data['IPCA Próximo Mês'] = data['Valor IPCA'].shift(-1)\n",
    "data = data.dropna()\n",
    "\n",
    "X = data.drop(columns=['Data Referência', 'IPCA Próximo Mês'])\n",
    "y = data['IPCA Próximo Mês']\n",
    "\n",
    "# Divisão dos dados respeitando ordem temporal\n",
    "split_index = int(len(X) * 0.8)\n",
    "X_train, X_test = X.iloc[:split_index], X.iloc[split_index:]\n",
    "y_train, y_test = y.iloc[:split_index], y.iloc[split_index:]\n",
    "\n",
    "# Definição dos modelos e hiperparâmetros\n",
    "models_params = {\n",
    "    \"SVR\": (SVR(), {\"C\": [0.1, 1, 10], \"kernel\": [\"linear\", \"rbf\"]}),\n",
    "    \"Decision Tree\": (DecisionTreeRegressor(), {\"max_depth\": [3, 5, 10]}),\n",
    "    \"Random Forest\": (RandomForestRegressor(), {\"n_estimators\": [50, 100, 200], \"max_depth\": [3, 5, 10]}),\n",
    "    \"Gradient Boosting\": (GradientBoostingRegressor(), {\"n_estimators\": [50, 100, 200], \"learning_rate\": [0.01, 0.1, 0.2]})\n",
    "}\n",
    "\n",
    "best_models = {}\n",
    "for name, (model, params) in models_params.items():\n",
    "    grid_search = GridSearchCV(model, params, scoring='r2', cv=5, n_jobs=-1)\n",
    "    grid_search.fit(X_train, y_train)\n",
    "    best_models[name] = {\n",
    "        \"Best Params\": grid_search.best_params_,\n",
    "        \"Best R2\": grid_search.best_score_\n",
    "    }\n",
    "\n",
    "# Exibir melhores modelos e parâmetros\n",
    "for model, result in best_models.items():\n",
    "    print(f\"{model}: Melhor R2 = {result['Best R2']:.4f}, Melhores Parâmetros = {result['Best Params']}\")"
   ]
  }
 ],
 "metadata": {
  "kernelspec": {
   "display_name": "Python 3",
   "language": "python",
   "name": "python3"
  },
  "language_info": {
   "codemirror_mode": {
    "name": "ipython",
    "version": 3
   },
   "file_extension": ".py",
   "mimetype": "text/x-python",
   "name": "python",
   "nbconvert_exporter": "python",
   "pygments_lexer": "ipython3",
   "version": "3.11.2"
  }
 },
 "nbformat": 4,
 "nbformat_minor": 2
}
