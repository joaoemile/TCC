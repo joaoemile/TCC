{
 "cells": [
  {
   "cell_type": "code",
   "execution_count": 1,
   "metadata": {},
   "outputs": [],
   "source": [
    "import pandas as pd\n",
    "from sklearn.svm import SVR\n",
    "from sklearn.preprocessing import StandardScaler\n",
    "from sklearn.pipeline import make_pipeline\n",
    "from sklearn.metrics import mean_squared_error, r2_score\n",
    "from sklearn.model_selection import TimeSeriesSplit"
   ]
  },
  {
   "cell_type": "code",
   "execution_count": 2,
   "metadata": {},
   "outputs": [],
   "source": [
    "from sklearn.linear_model import LinearRegression\n",
    "from sklearn.svm import SVR\n",
    "from sklearn.tree import DecisionTreeRegressor\n",
    "from sklearn.ensemble import GradientBoostingRegressor, RandomForestRegressor\n",
    "from sklearn.model_selection import GridSearchCV, TimeSeriesSplit\n",
    "from sklearn.metrics import mean_squared_error, r2_score"
   ]
  },
  {
   "cell_type": "code",
   "execution_count": 4,
   "metadata": {},
   "outputs": [],
   "source": [
    "# Carregando Dados\n",
    "file_path = 'C:\\\\Users\\\\JoãoEmileXimenesMuri\\\\Documents\\\\pessoal\\\\TCC\\\\Bases TCC\\\\Dados_TCC_2014_2024_Normalizados_TabUnica.xlsx'\n",
    "data = pd.read_excel(file_path, sheet_name='Sheet1')"
   ]
  },
  {
   "cell_type": "code",
   "execution_count": 5,
   "metadata": {},
   "outputs": [],
   "source": [
    "\n",
    "# coluna de data em datetime\n",
    "data['Data Referência'] = pd.to_datetime(data['Data Referência'])"
   ]
  },
  {
   "cell_type": "code",
   "execution_count": 6,
   "metadata": {},
   "outputs": [],
   "source": [
    "# Criar a variável-alvo (IPCA Próximo Mês)\n",
    "data['IPCA Próximo Mês'] = data['Valor IPCA'].shift(-1)\n",
    "data = data.dropna()  # Remover valores ausentes\n"
   ]
  },
  {
   "cell_type": "code",
   "execution_count": 7,
   "metadata": {},
   "outputs": [],
   "source": [
    "\n",
    "X = data.drop(columns=['Data Referência', 'IPCA Próximo Mês'])\n",
    "y = data['IPCA Próximo Mês']"
   ]
  },
  {
   "cell_type": "code",
   "execution_count": 8,
   "metadata": {},
   "outputs": [],
   "source": [
    "# Definir os modelos - ADICIONAR REGRESSÃO LINEAR REGULARIZADA\n",
    "models = {\n",
    "    \"Regressão Linear\": LinearRegression(),\n",
    "    \"SVR\": SVR(),\n",
    "    \"Decision Tree\": DecisionTreeRegressor(),\n",
    "    \"Gradient Boosting\": GradientBoostingRegressor(),\n",
    "    \"Random Forest\": RandomForestRegressor()\n",
    "}"
   ]
  },
  {
   "cell_type": "code",
   "execution_count": 9,
   "metadata": {},
   "outputs": [],
   "source": [
    "# Definir grids de parâmetros para cada modelo\n",
    "param_grids = {\n",
    "    \"SVR\": {\n",
    "        'kernel': ['linear', 'rbf', 'poly', 'sigmoid'],\n",
    "        'C': [0.001, 0.01, 0.1, 1, 10, 100],\n",
    "        'epsilon': [0.001, 0.01, 0.1, 0.5, 1]\n",
    "    },\n",
    "    \"Decision Tree\": {\n",
    "        'max_depth': [3, 5, 10, None],\n",
    "        'min_samples_split': [2, 5, 10],\n",
    "        'min_samples_leaf': [1, 2, 4]\n",
    "    },\n",
    "    \"Gradient Boosting\": {\n",
    "        'n_estimators': [50, 100, 200],\n",
    "        'learning_rate': [0.001, 0.01, 0.1, 0.5],\n",
    "        'max_depth': [3, 5, 10],\n",
    "        'subsample': [0.8, 1.0]\n",
    "    },\n",
    "    \"Random Forest\": {\n",
    "        'n_estimators': [100, 200, 500],\n",
    "        'max_depth': [3, 5, 10, None],\n",
    "        'min_samples_split': [2, 5, 10],\n",
    "        'min_samples_leaf': [1, 2, 4]\n",
    "    }\n",
    "}"
   ]
  },
  {
   "cell_type": "code",
   "execution_count": 10,
   "metadata": {},
   "outputs": [],
   "source": [
    "# Configuração do TimeSeriesSplit\n",
    "n_splits = 5  # Número de divisões (folds)\n",
    "tss = TimeSeriesSplit(n_splits=n_splits)\n"
   ]
  },
  {
   "cell_type": "code",
   "execution_count": 11,
   "metadata": {},
   "outputs": [
    {
     "name": "stdout",
     "output_type": "stream",
     "text": [
      "Treinando e avaliando o modelo: Regressão Linear\n",
      "Fitting 5 folds for each of 1 candidates, totalling 5 fits\n",
      "Melhores Parâmetros para o modelo Regressão Linear: {}\n",
      "Melhor Pontuação (MSE Negativo) para o modelo Regressão Linear: -0.1191\n",
      "==================================================\n",
      "Desempenho final para o modelo Regressão Linear:\n",
      "  MSE: 0.0005\n",
      "  R²: 0.9943\n",
      "==================================================\n",
      "Treinando e avaliando o modelo: SVR\n",
      "Fitting 5 folds for each of 120 candidates, totalling 600 fits\n",
      "Melhores Parâmetros para o modelo SVR: {'C': 0.1, 'epsilon': 0.001, 'kernel': 'linear'}\n",
      "Melhor Pontuação (MSE Negativo) para o modelo SVR: -0.0508\n",
      "==================================================\n",
      "Desempenho final para o modelo SVR:\n",
      "  MSE: 0.0021\n",
      "  R²: 0.9739\n",
      "==================================================\n",
      "Treinando e avaliando o modelo: Decision Tree\n",
      "Fitting 5 folds for each of 36 candidates, totalling 180 fits\n",
      "Melhores Parâmetros para o modelo Decision Tree: {'max_depth': 5, 'min_samples_leaf': 1, 'min_samples_split': 2}\n",
      "Melhor Pontuação (MSE Negativo) para o modelo Decision Tree: -0.0825\n",
      "==================================================\n",
      "Desempenho final para o modelo Decision Tree:\n",
      "  MSE: 0.0004\n",
      "  R²: 0.9948\n",
      "==================================================\n",
      "Treinando e avaliando o modelo: Gradient Boosting\n",
      "Fitting 5 folds for each of 72 candidates, totalling 360 fits\n",
      "Melhores Parâmetros para o modelo Gradient Boosting: {'learning_rate': 0.5, 'max_depth': 5, 'n_estimators': 200, 'subsample': 0.8}\n",
      "Melhor Pontuação (MSE Negativo) para o modelo Gradient Boosting: -0.0608\n",
      "==================================================\n",
      "Desempenho final para o modelo Gradient Boosting:\n",
      "  MSE: 0.0000\n",
      "  R²: 1.0000\n",
      "==================================================\n",
      "Treinando e avaliando o modelo: Random Forest\n",
      "Fitting 5 folds for each of 108 candidates, totalling 540 fits\n",
      "Melhores Parâmetros para o modelo Random Forest: {'max_depth': 3, 'min_samples_leaf': 4, 'min_samples_split': 10, 'n_estimators': 100}\n",
      "Melhor Pontuação (MSE Negativo) para o modelo Random Forest: -0.0995\n",
      "==================================================\n",
      "Desempenho final para o modelo Random Forest:\n",
      "  MSE: 0.0021\n",
      "  R²: 0.9739\n",
      "==================================================\n"
     ]
    }
   ],
   "source": [
    "# Loop para treinar e avaliar cada modelo com GridSearchCV - C0LOCAR REFIT FALSO, OLHAR O ATRIBUTO .SCORE E BESTSCORE\n",
    "for model_name, model in models.items():\n",
    "    print(f\"Treinando e avaliando o modelo: {model_name}\")\n",
    "    \n",
    "    # Configurar o GridSearchCV\n",
    "    grid_search = GridSearchCV(\n",
    "        estimator=model,\n",
    "        param_grid=param_grids.get(model_name, {}),\n",
    "        scoring='neg_mean_squared_error',  # Avaliar pelo erro quadrático médio negativo\n",
    "        cv=tss,                            # TimeSeriesSplit para validação cruzada temporal\n",
    "        verbose=1,                         # Exibe progresso\n",
    "        n_jobs=-1                          # Usa todos os núcleos disponíveis para acelerar o processo\n",
    "    )\n",
    "    \n",
    "    # Ajustar no conjunto de dados\n",
    "    grid_search.fit(X, y)\n",
    "    \n",
    "    # Resultados\n",
    "    print(f\"Melhores Parâmetros para o modelo {model_name}: {grid_search.best_params_}\")\n",
    "    print(f\"Melhor Pontuação (MSE Negativo) para o modelo {model_name}: {grid_search.best_score_:.4f}\")\n",
    "    print(\"=\" * 50)\n",
    "    \n",
    "    # Avaliar o modelo final com os melhores parâmetros\n",
    "    best_model = grid_search.best_estimator_\n",
    "    \n",
    "    # Calcular MSE e R² finais com o modelo otimizado\n",
    "    y_pred = best_model.predict(X)\n",
    "    mse = mean_squared_error(y, y_pred)\n",
    "    r2 = r2_score(y, y_pred)\n",
    "    \n",
    "    print(f\"Desempenho final para o modelo {model_name}:\")\n",
    "    print(f\"  MSE: {mse:.4f}\")\n",
    "    print(f\"  R²: {r2:.4f}\")\n",
    "    print(\"=\" * 50)"
   ]
  }
 ],
 "metadata": {
  "kernelspec": {
   "display_name": "Python 3",
   "language": "python",
   "name": "python3"
  },
  "language_info": {
   "codemirror_mode": {
    "name": "ipython",
    "version": 3
   },
   "file_extension": ".py",
   "mimetype": "text/x-python",
   "name": "python",
   "nbconvert_exporter": "python",
   "pygments_lexer": "ipython3",
   "version": "3.11.2"
  }
 },
 "nbformat": 4,
 "nbformat_minor": 2
}
