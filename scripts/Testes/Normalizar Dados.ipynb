{
 "cells": [
  {
   "cell_type": "code",
   "execution_count": 3,
   "metadata": {},
   "outputs": [
    {
     "name": "stdout",
     "output_type": "stream",
     "text": [
      "File saved to C:\\Users\\JoãoEmileXimenesMuri\\Documents\\pessoal\\TCC\\Bases TCC\\Dados_TCC_2014_2024_Normalizados.xlsx\n"
     ]
    }
   ],
   "source": [
    "import pandas as pd\n",
    "from sklearn.preprocessing import StandardScaler\n",
    "from sklearn.preprocessing import MinMaxScaler\n",
    "\n",
    "# Load the input Excel file\n",
    "input_file = 'C:\\\\Users\\\\JoãoEmileXimenesMuri\\\\Documents\\\\pessoal\\\\TCC\\\\Bases TCC\\\\Dados_TCC_2014.xlsx'\n",
    "output_file = 'C:\\\\Users\\\\JoãoEmileXimenesMuri\\\\Documents\\\\pessoal\\\\TCC\\\\Bases TCC\\\\Dados_TCC_2014_2024_Normalizados.xlsx'\n",
    "\n",
    "# Open the workbook\n",
    "excel_data = pd.ExcelFile(input_file)\n",
    "\n",
    "# Prepare a dictionary to hold the standardized data\n",
    "standardized_data = {}\n",
    "\n",
    "# Process each sheet in the workbook\n",
    "for sheet_name in excel_data.sheet_names:\n",
    "    df = excel_data.parse(sheet_name)\n",
    "\n",
    "    # Check if the required columns exist\n",
    "    if 'Data padronizada' in df.columns and 'Valor' in df.columns:\n",
    "        # Select the relevant columns\n",
    "        data = df[['Data padronizada', 'Valor']].copy()\n",
    "\n",
    "        # Standardize the 'Valor' column\n",
    "        scaler = MinMaxScaler()\n",
    "        data['Valor Padronizado'] = scaler.fit_transform(data[['Valor']])\n",
    "\n",
    "        # Drop the original 'Valor' column\n",
    "        data = data.drop(columns=['Valor'])\n",
    "\n",
    "        # Store the processed data\n",
    "        standardized_data[sheet_name] = data\n",
    "\n",
    "# Write the standardized data to a new Excel file\n",
    "with pd.ExcelWriter(output_file) as writer:\n",
    "    for sheet_name, df in standardized_data.items():\n",
    "        df.to_excel(writer, sheet_name=sheet_name, index=False)\n",
    "\n",
    "print(f\"File saved to {output_file}\")"
   ]
  }
 ],
 "metadata": {
  "kernelspec": {
   "display_name": "Python 3",
   "language": "python",
   "name": "python3"
  },
  "language_info": {
   "codemirror_mode": {
    "name": "ipython",
    "version": 3
   },
   "file_extension": ".py",
   "mimetype": "text/x-python",
   "name": "python",
   "nbconvert_exporter": "python",
   "pygments_lexer": "ipython3",
   "version": "3.11.2"
  }
 },
 "nbformat": 4,
 "nbformat_minor": 2
}
