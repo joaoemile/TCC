{
 "cells": [
  {
   "cell_type": "code",
   "execution_count": 4,
   "metadata": {},
   "outputs": [],
   "source": [
    "import pandas as pd\n",
    "from sklearn.model_selection import GridSearchCV, TimeSeriesSplit\n",
    "from sklearn.metrics import make_scorer, r2_score\n",
    "from sklearn.linear_model import LinearRegression\n",
    "from sklearn.svm import SVR\n",
    "from sklearn.tree import DecisionTreeRegressor\n",
    "from sklearn.ensemble import GradientBoostingRegressor, RandomForestRegressor\n",
    "from sklearn.metrics import mean_squared_error, r2_score"
   ]
  },
  {
   "cell_type": "code",
   "execution_count": 5,
   "metadata": {},
   "outputs": [],
   "source": [
    "# Carregar dados\n",
    "file_path = 'C:\\\\Users\\\\JoãoEmileXimenesMuri\\\\Documents\\\\pessoal\\\\TCC\\\\Bases TCC\\\\Dados_TCC_2014_2024_Normalizados_TabUnica.xlsx'\n",
    "data = pd.read_excel(file_path, sheet_name='Sheet1')\n"
   ]
  },
  {
   "cell_type": "code",
   "execution_count": 6,
   "metadata": {},
   "outputs": [],
   "source": [
    "# Processar dados\n",
    "data['Data Referência'] = pd.to_datetime(data['Data Referência'])\n",
    "data['IPCA Próximo Mês'] = data['Valor IPCA'].shift(-1)\n",
    "data = data.dropna()"
   ]
  },
  {
   "cell_type": "code",
   "execution_count": 7,
   "metadata": {},
   "outputs": [],
   "source": [
    "X = data.drop(columns=['Data Referência', 'IPCA Próximo Mês'])\n",
    "y = data['IPCA Próximo Mês']"
   ]
  },
  {
   "cell_type": "code",
   "execution_count": 8,
   "metadata": {},
   "outputs": [],
   "source": [
    "# Configurar TimeSeriesSplit\n",
    "n_splits = 5\n",
    "tss = TimeSeriesSplit(n_splits=n_splits)\n"
   ]
  },
  {
   "cell_type": "code",
   "execution_count": 9,
   "metadata": {},
   "outputs": [],
   "source": [
    "# Definir a métrica como R²\n",
    "scoring = make_scorer(r2_score)"
   ]
  },
  {
   "cell_type": "code",
   "execution_count": 10,
   "metadata": {},
   "outputs": [],
   "source": [
    "# Definir os modelos - ADICIONAR REGRESSÃO LINEAR REGULARIZADA\n",
    "models = {\n",
    "    \"Regressão Linear\": LinearRegression(),\n",
    "    \"SVR\": SVR(),\n",
    "    \"Decision Tree\": DecisionTreeRegressor(),\n",
    "    \"Gradient Boosting\": GradientBoostingRegressor(),\n",
    "    \"Random Forest\": RandomForestRegressor()\n",
    "}"
   ]
  },
  {
   "cell_type": "code",
   "execution_count": 11,
   "metadata": {},
   "outputs": [],
   "source": [
    "# Definir grids de parâmetros para cada modelo\n",
    "param_grids = {\n",
    "    \"SVR\": {\n",
    "        'kernel': ['linear', 'rbf', 'poly', 'sigmoid'],\n",
    "        'C': [0.001, 0.01, 0.1, 1, 10, 100],\n",
    "        'epsilon': [0.001, 0.01, 0.1, 0.5, 1]\n",
    "    },\n",
    "    \"Decision Tree\": {\n",
    "        'max_depth': [3, 5, 10, None],\n",
    "        'min_samples_split': [2, 5, 10],\n",
    "        'min_samples_leaf': [1, 2, 4]\n",
    "    },\n",
    "    \"Gradient Boosting\": {\n",
    "        'n_estimators': [50, 100, 200],\n",
    "        'learning_rate': [0.001, 0.01, 0.1, 0.5],\n",
    "        'max_depth': [3, 5, 10],\n",
    "        'subsample': [0.8, 1.0]\n",
    "    },\n",
    "    \"Random Forest\": {\n",
    "        'n_estimators': [100, 200, 500],\n",
    "        'max_depth': [3, 5, 10, None],\n",
    "        'min_samples_split': [2, 5, 10],\n",
    "        'min_samples_leaf': [1, 2, 4]\n",
    "    }\n",
    "}"
   ]
  },
  {
   "cell_type": "code",
   "execution_count": 12,
   "metadata": {},
   "outputs": [
    {
     "name": "stdout",
     "output_type": "stream",
     "text": [
      "Treinando e avaliando o modelo: Regressão Linear\n",
      "Fitting 5 folds for each of 1 candidates, totalling 5 fits\n",
      "Melhores Parâmetros para o modelo Regressão Linear: {}\n",
      "Melhor Pontuação (r2) para o modelo Regressão Linear: -3.3076\n",
      "==================================================\n",
      "Desempenho final para o modelo Regressão Linear:\n",
      "  MSE: 0.0005\n",
      "  R²: 0.9943\n",
      "==================================================\n",
      "Treinando e avaliando o modelo: SVR\n",
      "Fitting 5 folds for each of 120 candidates, totalling 600 fits\n",
      "Melhores Parâmetros para o modelo SVR: {'C': 1, 'epsilon': 0.01, 'kernel': 'linear'}\n",
      "Melhor Pontuação (r2) para o modelo SVR: -0.7208\n",
      "==================================================\n",
      "Desempenho final para o modelo SVR:\n",
      "  MSE: 0.0007\n",
      "  R²: 0.9909\n",
      "==================================================\n",
      "Treinando e avaliando o modelo: Decision Tree\n",
      "Fitting 5 folds for each of 36 candidates, totalling 180 fits\n",
      "Melhores Parâmetros para o modelo Decision Tree: {'max_depth': 3, 'min_samples_leaf': 4, 'min_samples_split': 2}\n",
      "Melhor Pontuação (r2) para o modelo Decision Tree: -1.9856\n",
      "==================================================\n",
      "Desempenho final para o modelo Decision Tree:\n",
      "  MSE: 0.0029\n",
      "  R²: 0.9634\n",
      "==================================================\n",
      "Treinando e avaliando o modelo: Gradient Boosting\n",
      "Fitting 5 folds for each of 72 candidates, totalling 360 fits\n",
      "Melhores Parâmetros para o modelo Gradient Boosting: {'learning_rate': 0.1, 'max_depth': 5, 'n_estimators': 200, 'subsample': 0.8}\n",
      "Melhor Pontuação (r2) para o modelo Gradient Boosting: -1.0822\n",
      "==================================================\n",
      "Desempenho final para o modelo Gradient Boosting:\n",
      "  MSE: 0.0000\n",
      "  R²: 1.0000\n",
      "==================================================\n",
      "Treinando e avaliando o modelo: Random Forest\n",
      "Fitting 5 folds for each of 108 candidates, totalling 540 fits\n",
      "Melhores Parâmetros para o modelo Random Forest: {'max_depth': 5, 'min_samples_leaf': 1, 'min_samples_split': 10, 'n_estimators': 100}\n",
      "Melhor Pontuação (r2) para o modelo Random Forest: -2.1669\n",
      "==================================================\n",
      "Desempenho final para o modelo Random Forest:\n",
      "  MSE: 0.0013\n",
      "  R²: 0.9836\n",
      "==================================================\n"
     ]
    }
   ],
   "source": [
    "for model_name, model in models.items():\n",
    "    print(f\"Treinando e avaliando o modelo: {model_name}\")\n",
    "    \n",
    "    grid_search = GridSearchCV(\n",
    "        estimator=model,\n",
    "        param_grid=param_grids.get(model_name, {}),\n",
    "        scoring='r2',\n",
    "        cv=tss,\n",
    "        verbose=1,\n",
    "        n_jobs=-1,\n",
    "        refit=False  # Mantido como falso para evitar sobrecarga automática\n",
    "    )\n",
    "    \n",
    "    grid_search.fit(X, y)\n",
    "    \n",
    "    best_index = grid_search.best_index_\n",
    "    best_params = grid_search.cv_results_['params'][best_index]\n",
    "    best_score = grid_search.cv_results_['mean_test_score'][best_index]\n",
    "    \n",
    "    print(f\"Melhores Parâmetros para o modelo {model_name}: {best_params}\")\n",
    "    print(f\"Melhor Pontuação (r2) para o modelo {model_name}: {best_score:.4f}\")\n",
    "    print(\"=\" * 50)\n",
    "    \n",
    "    best_model = model.set_params(**best_params)\n",
    "    best_model.fit(X, y)\n",
    "    \n",
    "    y_pred = best_model.predict(X)\n",
    "    mse = mean_squared_error(y, y_pred)\n",
    "    r2 = r2_score(y, y_pred)\n",
    "    \n",
    "    print(f\"Desempenho final para o modelo {model_name}:\")\n",
    "    print(f\"  MSE: {mse:.4f}\")\n",
    "    print(f\"  R²: {r2:.4f}\")\n",
    "    print(\"=\" * 50)\n"
   ]
  }
 ],
 "metadata": {
  "kernelspec": {
   "display_name": "Python 3",
   "language": "python",
   "name": "python3"
  },
  "language_info": {
   "codemirror_mode": {
    "name": "ipython",
    "version": 3
   },
   "file_extension": ".py",
   "mimetype": "text/x-python",
   "name": "python",
   "nbconvert_exporter": "python",
   "pygments_lexer": "ipython3",
   "version": "3.11.2"
  }
 },
 "nbformat": 4,
 "nbformat_minor": 2
}
